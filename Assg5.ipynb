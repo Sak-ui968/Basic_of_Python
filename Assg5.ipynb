{
  "nbformat": 4,
  "nbformat_minor": 0,
  "metadata": {
    "colab": {
      "provenance": []
    },
    "kernelspec": {
      "name": "python3",
      "display_name": "Python 3"
    },
    "language_info": {
      "name": "python"
    }
  },
  "cells": [
    {
      "cell_type": "markdown",
      "source": [
        "Assignment 5 : Files, exceptional handling, logging and memory management"
      ],
      "metadata": {
        "id": "GTJqXTUGuhWp"
      }
    },
    {
      "cell_type": "markdown",
      "source": [
        "1.What is the difference between interpreted and compiled languages ?\n",
        "\n",
        "\n",
        "\n",
        ">**Translation**:\n",
        "\n",
        ">>* Compiler: Translates the **entire program** into machine code before execution.\n",
        ">>* Interpreter: Translates and executes **line by line** at runtime.\n",
        "\n",
        ">**Execution Speed**:\n",
        "\n",
        ">>* Compiler: **Fast** (already in machine code).\n",
        ">>* Interpreter: **Slow** (translation happens during execution).\n",
        "\n",
        ">**Error Detection**:\n",
        "\n",
        ">>* Compiler: Errors are shown **after compilation**.\n",
        ">>* Interpreter: Errors are shown **immediately** when the faulty line executes.\n",
        "\n",
        ">**Recompilation**:\n",
        "\n",
        ">>* Compiler: Needed after every code change.\n",
        ">>* Interpreter: Not needed, code runs directly.\n",
        "\n",
        ">**Portability**:\n",
        "\n",
        ">>* Compiler: **Less portable** (machine code is platform dependent).\n",
        ">>* Interpreter: **More portable** (only interpreter must exist).\n",
        "\n",
        ">**Debugging**:\n",
        "\n",
        ">>* Compiler: **Harder**, since you see errors later.\n",
        ">>* Interpreter: **Easier**, since errors appear instantly.\n",
        "\n",
        ">**Memory Usage**:\n",
        "\n",
        ">>* Compiler: **High**, stores machine code.\n",
        ">>* Interpreter: **Low**, doesn’t store full machine code.\n",
        "\n",
        ">**Examples**:\n",
        "\n",
        ">>* Compiler: **C, C++, Rust, Go**\n",
        ">>* Interpreter: **Python, JavaScript, Ruby, PHP**\n",
        "\n",
        "\n",
        "\n"
      ],
      "metadata": {
        "id": "2BSPSd4iuzt6"
      }
    },
    {
      "cell_type": "markdown",
      "source": [
        "2.What is exception handling in Python?\n",
        "\n",
        ">Exception Handling in Python\n",
        "\n",
        ">Definition:\n",
        ">>Exception handling in Python is a mechanism to handle runtime errors so that the normal flow of a program is not interrupted.\n",
        "\n",
        ">Why:\n",
        ">>Instead of crashing when an error occurs, Python lets you catch the error and decide what to do.\n",
        "\n",
        ">Key Keywords\n",
        "\n",
        ">>try → Block of code where you write statements that may cause an error.\n",
        "\n",
        ">>except → Block that handles the error.\n",
        "\n",
        ">>else → Block that runs if no error occurs.\n",
        "\n",
        ">>finally → Block that always runs (cleanup code)."
      ],
      "metadata": {
        "id": "nHBEvIagu5Wh"
      }
    },
    {
      "cell_type": "markdown",
      "source": [
        "3.What is the purpose of the finally block in exception handling?\n",
        "\n",
        ">Purpose of the finally block in Python exception handling\n",
        "\n",
        ">The finally block is used to define code that must run no matter what happens – whether an exception occurs or not.\n",
        "\n",
        ">It is generally used for cleanup activities, such as:\n",
        "\n",
        ">1. Closing files\n",
        "\n",
        ">2. Releasing resources\n",
        "\n",
        ">3. Disconnecting from a database\n",
        "\n",
        ">4. Releasing memory/locks"
      ],
      "metadata": {
        "id": "snSZwnE5u9yi"
      }
    },
    {
      "cell_type": "markdown",
      "source": [
        "4.What is logging in Python?\n",
        "\n",
        ">Logging in Python\n",
        "\n",
        ">Definition:\n",
        ">>Logging in Python is the process of recording events, errors, warnings, or other information that happen while a program runs.\n",
        "It helps developers track program flow, debug issues, and monitor applications.\n",
        "\n",
        ">Why use logging instead of print?\n",
        "\n",
        ">>print() is only for temporary debugging.\n",
        "\n",
        ">>Logging provides different severity levels, timestamps, and can write logs to a file or console.\n",
        "\n",
        ">Logging Levels in Python\n",
        "\n",
        "\n",
        ">1. DEBUG – Detailed information for debugging.\n",
        "\n",
        ">2. INFO – Confirmation that things are working normally.\n",
        "\n",
        ">3. WARNING – Something unexpected happened, but the program still runs.\n",
        "\n",
        ">4. ERROR – A serious problem; the program can’t perform a function.\n",
        "\n",
        ">5. CRITICAL – Very serious error; the program may stop running."
      ],
      "metadata": {
        "id": "FPvWIgCAvB1B"
      }
    },
    {
      "cell_type": "markdown",
      "source": [
        "5.What is the significance of the __del__ method in Python?\n",
        "\n",
        ">Definition:\n",
        "\n",
        ">>The __del__ method is a destructor method in Python.\n",
        "It is automatically called when an object is about to be destroyed (i.e., when it is no longer needed and garbage collected).\n",
        "\n",
        ">Purpose / Significance:\n",
        "\n",
        ">1. To perform cleanup tasks before an object is removed from memory.\n",
        "\n",
        ">2. Useful for closing files, releasing memory, disconnecting from databases, freeing resources, etc.\n",
        "\n",
        ">3. Ensures resources are not left open after the object’s lifecycle ends."
      ],
      "metadata": {
        "id": "KwLP2SNkvFzB"
      }
    },
    {
      "cell_type": "markdown",
      "source": [
        "6.What is the difference between import and from ... import in Python?\n",
        "\n",
        ">### **Difference between `import` and `from ... import` in Python**\n",
        "\n",
        ">>**1. `import` statement**\n",
        "\n",
        "* Imports the **whole module**.\n",
        "* To access functions/variables, you must use the **module name as prefix**.\n",
        "\n",
        ">>Example:\n",
        "\n",
        "```python\n",
        "import math\n",
        "\n",
        "print(math.sqrt(16))   # Access using module name\n",
        "```\n",
        "\n",
        "\n",
        ">>**2. `from ... import` statement**\n",
        "\n",
        "* Imports **specific functions, classes, or variables** from a module.\n",
        "* You can use them **directly without prefixing** with the module name.\n",
        "\n",
        "Example:\n",
        "\n",
        "```python\n",
        "from math import sqrt\n",
        "\n",
        "print(sqrt(16))   # Directly accessible\n",
        "```\n",
        "\n",
        ">### **Key Differences**\n",
        "\n",
        "* **Scope**:\n",
        "\n",
        "  * `import` → Brings in the entire module.\n",
        "  * `from ... import` → Brings only what you specify.\n",
        "\n",
        "* **Usage**:\n",
        "\n",
        "  * `import` → Requires `module_name.function_name`.\n",
        "  * `from ... import` → Direct access without module name.\n",
        "\n",
        "* **Readability**:\n",
        "\n",
        "  * `import` → More explicit, avoids naming conflicts.\n",
        "  * `from ... import` → Cleaner, but risk of conflicts if names overlap.\n",
        "\n"
      ],
      "metadata": {
        "id": "SdGNSxXDvJQL"
      }
    },
    {
      "cell_type": "markdown",
      "source": [
        "7.How can you handle multiple exceptions in Python?\n",
        "\n",
        "\n",
        ">### **Handling Multiple Exceptions in Python**\n",
        "\n",
        ">You can handle multiple exceptions in **three main ways**:\n",
        "\n",
        ">**1. Multiple `except` blocks**\n",
        "\n",
        "> * You can write **separate blocks** for each type of exception.\n",
        "\n",
        "```python\n",
        "try:\n",
        "    num = int(input(\"Enter a number: \"))\n",
        "    print(10 / num)\n",
        "except ZeroDivisionError:\n",
        "    print(\"Cannot divide by zero\")\n",
        "except ValueError:\n",
        "    print(\" Invalid input, please enter a number\")\n",
        "```\n",
        "\n",
        "\n",
        ">**2. Single `except` block with a tuple of exceptions**\n",
        "\n",
        "> * You can handle **different exceptions with the same block**.\n",
        "\n",
        "```python\n",
        "try:\n",
        "    num = int(input(\"Enter a number: \"))\n",
        "    print(10 / num)\n",
        "except (ZeroDivisionError, ValueError) as e:\n",
        "    print(\" Error occurred:\", e)\n",
        "```\n",
        "\n",
        "\n",
        ">**3. Catch-all exception**\n",
        "\n",
        "> * Using `Exception` to handle **any type of error** (not always recommended, but useful for debugging).\n",
        "\n",
        "```python\n",
        "try:\n",
        "    num = int(input(\"Enter a number: \"))\n",
        "    print(10 / num)\n",
        "except Exception as e:\n",
        "    print(\" An unexpected error occurred:\", e)\n",
        "```\n"
      ],
      "metadata": {
        "id": "tzTHIOMmvMS2"
      }
    },
    {
      "cell_type": "markdown",
      "source": [
        "8.What is the purpose of the with statement when handling files in Python?\n",
        "\n",
        "\n",
        ">### **Purpose of the `with` Statement in File Handling (Python)**\n",
        "\n",
        "> * The `with` statement is used to **open and work with files safely**.\n",
        "> * It ensures that the file is **automatically closed** after the block of code is executed — even if an error occurs.\n",
        "> * This avoids having to call `file.close()` manually.\n",
        "\n",
        "\n",
        ">### **Example (without `with`)**\n",
        "\n",
        "```python\n",
        "f = open(\"data.txt\", \"r\")\n",
        "content = f.read()\n",
        "f.close()   # Must be called manually\n",
        "```\n",
        "\n",
        ">If an exception occurs before `f.close()`, the file may remain open.\n",
        "\n",
        "\n",
        "### **Example (with `with`)**\n",
        "\n",
        "```python\n",
        "with open(\"data.txt\", \"r\") as f:\n",
        "    content = f.read()\n",
        "\n",
        "# File is closed automatically here\n",
        "```\n",
        "\n",
        "\n",
        "\n",
        "### **Key Benefits**\n",
        "\n",
        "1. **Automatic resource management** → File closes itself.\n",
        "2. **Cleaner code** → No need for `close()`.\n",
        "3. **Error-safe** → Even if an exception occurs, the file is properly closed.\n",
        "\n"
      ],
      "metadata": {
        "id": "TagzlOPIvQQp"
      }
    },
    {
      "cell_type": "markdown",
      "source": [
        "9.What is the difference between multithreading and multiprocessing?\n",
        "\n",
        "\n",
        ">### **Difference between Multithreading and Multiprocessing**\n",
        "\n",
        ">**1. Definition**\n",
        "\n",
        ">>* **Multithreading**: Multiple **threads** (lightweight units of a process) run in the same process.\n",
        ">>* **Multiprocessing**: Multiple **processes** run independently, each with its own memory space.\n",
        "\n",
        ">**2. Memory**\n",
        "\n",
        ">>* **Multithreading**: Threads **share the same memory** of the process.\n",
        ">>* **Multiprocessing**: Each process has its **own separate memory space**.\n",
        "\n",
        ">**3. Performance**\n",
        "\n",
        ">>* **Multithreading**: Good for **I/O-bound tasks** (e.g., file read/write, network calls).\n",
        ">>* **Multiprocessing**: Good for **CPU-bound tasks** (e.g., heavy computations).\n",
        "\n",
        ">**4. Communication**\n",
        "\n",
        ">>* **Multithreading**: Easy communication (since memory is shared).\n",
        ">>* **Multiprocessing**: Communication is harder (needs IPC – Inter-Process Communication).\n",
        "\n",
        ">**5. Resource usage**\n",
        "\n",
        ">>* **Multithreading**: Uses **fewer resources**, lightweight.\n",
        ">>* **Multiprocessing**: Uses **more resources**, as each process is heavier.\n",
        "\n",
        ">**6. Crash Effect**\n",
        "\n",
        ">>* **Multithreading**: If one thread crashes, it can affect the whole process.\n",
        ">>* **Multiprocessing**: If one process crashes, others continue unaffected.\n",
        "\n",
        "\n",
        "\n",
        ">**7. Python Example**\n",
        "\n",
        "```python\n",
        "# Multithreading Example\n",
        "import threading\n",
        "\n",
        "def task():\n",
        "    print(\"Thread is running\")\n",
        "\n",
        "t = threading.Thread(target=task)\n",
        "t.start()\n",
        "\n",
        "# Multiprocessing Example\n",
        "import multiprocessing\n",
        "\n",
        "def task():\n",
        "    print(\"Process is running\")\n",
        "\n",
        "p = multiprocessing.Process(target=task)\n",
        "p.start()\n",
        "```\n",
        "\n"
      ],
      "metadata": {
        "id": "Fk8LgtsevU_A"
      }
    },
    {
      "cell_type": "markdown",
      "source": [
        "10.What are the advantages of using logging in a program?\n",
        "\n",
        ">### **Advantages of Using Logging in a Program**\n",
        "\n",
        ">>1. **Error tracking** → Helps record runtime errors for later debugging.\n",
        ">>2. **Debugging support** → Provides detailed information (via `DEBUG` level) without using print statements.\n",
        ">>3. **Program monitoring** → Keeps track of events, warnings, and system behavior over time.\n",
        ">>4. **Persistent records** → Logs can be stored in files/databases for future analysis.\n",
        ">>5. **Different severity levels** → (DEBUG, INFO, WARNING, ERROR, CRITICAL) allow filtering messages by importance.\n",
        ">>6. **Better than `print()`** → Offers timestamps, formatting, and structured output instead of plain text.\n",
        ">>7. **Automatic issue diagnosis** → Useful in production systems where developers can’t directly monitor execution.\n",
        ">>8. **Centralized reporting** → Logs can be aggregated from multiple systems/services.\n",
        ">>9. **Improves reliability** → Helps identify recurring issues and fix them faster.\n",
        "\n"
      ],
      "metadata": {
        "id": "6cpyP0QuvYO5"
      }
    },
    {
      "cell_type": "markdown",
      "source": [
        "11.What is memory management in Python?\n",
        "\n",
        ">### **Memory Management in Python**\n",
        "\n",
        "> * **Definition**:\n",
        "  Memory management in Python is the process of **allocating, using, and releasing memory** efficiently while a program runs.\n",
        "  Python does this **automatically** using its built-in **memory manager** and **garbage collector**.\n",
        "\n",
        "\n",
        ">### **Key Points about Memory Management in Python**\n",
        "\n",
        "> 1. **Automatic Allocation & Deallocation**\n",
        "\n",
        "   >> * Python automatically allocates memory when objects are created and frees it when objects are no longer needed.\n",
        "\n",
        "> 2. **Private Heap Space**\n",
        "\n",
        "   >> * All Python objects and data structures are stored in a **private heap** that the programmer cannot directly access.\n",
        "   >> * The **Python memory manager** handles allocation inside this heap.\n",
        "\n",
        "> 3. **Garbage Collection**\n",
        "\n",
        "   >> * Python uses **reference counting** and a **cyclic garbage collector** to remove unused objects.\n",
        "   >> * When an object’s reference count drops to zero, it is destroyed, and memory is freed.\n",
        "\n",
        "> 4. **Dynamic Typing**\n",
        "\n",
        "   >> * Python variables don’t need explicit type declaration, and memory is allocated dynamically based on the object type.\n",
        "\n",
        "> 5. **Built-in Functions for Monitoring**\n",
        "\n",
        "   >> * Modules like **`sys`**, **`gc`**, or **`tracemalloc`** can be used to monitor and control memory usage.\n",
        "\n",
        "\n",
        "\n",
        "### **Example**\n",
        "\n",
        "```python\n",
        "import gc\n",
        "\n",
        "x = [1, 2, 3]\n",
        "del x          # Delete reference\n",
        "gc.collect()   # Force garbage collection\n",
        "print(\"Garbage collection done\")\n",
        "```\n"
      ],
      "metadata": {
        "id": "rh_PJEaqvbOO"
      }
    },
    {
      "cell_type": "markdown",
      "source": [
        "12.What are the basic steps involved in exception handling in Python?\n",
        "\n",
        "\n",
        "> ### **Basic Steps in Exception Handling (Python)**\n",
        "\n",
        "> 1. **Identify risky code**\n",
        "\n",
        "   * Wrap the code that may cause an error inside a **`try` block**.\n",
        "\n",
        "> 2. **Catch the exception**\n",
        "\n",
        "   * Use **`except` block(s)** to handle specific or multiple exceptions.\n",
        "\n",
        "> 3. **(Optional) Use `else`**\n",
        "\n",
        "   * The **`else` block** runs if no exception occurs (for safe code execution).\n",
        "\n",
        "> 4. **(Optional) Use `finally`**\n",
        "\n",
        "   * The **`finally` block** always runs (for cleanup tasks like closing files, releasing resources).\n",
        "\n",
        "\n",
        "### **Example**\n",
        "\n",
        "```python\n",
        "try:\n",
        "    num = int(input(\"Enter a number: \"))\n",
        "    result = 10 / num\n",
        "except ZeroDivisionError:\n",
        "    print(\"Cannot divide by zero\")\n",
        "except ValueError:\n",
        "    print(\"Invalid input, enter a number\")\n",
        "else:\n",
        "    print(\" Division successful:\", result)\n",
        "finally:\n",
        "    print(\" Program finished (cleanup done)\")\n",
        "```\n",
        "\n"
      ],
      "metadata": {
        "id": "GZVTrKivveR5"
      }
    },
    {
      "cell_type": "markdown",
      "source": [
        "13.Why is memory management important in Python?\n",
        "\n",
        "\n",
        ">### **Why is Memory Management Important in Python?**\n",
        "\n",
        "> 1. **Efficient resource use** → Prevents wastage of memory and ensures programs run smoothly.\n",
        "\n",
        "> 2. **Automatic garbage collection** → Frees memory of unused objects, avoiding memory leaks.\n",
        "\n",
        "> 3. **Program stability** → Proper memory handling reduces crashes and unexpected behavior.\n",
        "\n",
        "> 4. **Performance optimization** → Better memory management = faster execution and lower resource consumption.\n",
        "\n",
        "> 5. **Supports dynamic typing** → Python objects can change type and size, so efficient memory allocation is essential.\n",
        "\n",
        "> 6. **Scalability** → Important for large applications, data analysis, or machine learning, where huge memory is required.\n",
        "\n"
      ],
      "metadata": {
        "id": "h6WQC5vhvkWd"
      }
    },
    {
      "cell_type": "markdown",
      "source": [
        "14.What is the role of try and except in exception handling?\n",
        "\n",
        "\n",
        ">### **Role of `try` and `except` in Exception Handling**\n",
        "\n",
        "> * **`try` block** → Contains the code that may cause an exception (risky code).\n",
        "> * **`except` block** → Catches and handles the exception if it occurs, preventing the program from crashing.\n",
        "\n",
        "\n",
        "\n",
        "### **Example**\n",
        "\n",
        "```python\n",
        "try:\n",
        "    num = int(input(\"Enter a number: \"))\n",
        "    print(10 / num)\n",
        "except ZeroDivisionError:\n",
        "    print(\" Cannot divide by zero\")\n",
        "except ValueError:\n",
        "    print(\" Invalid input\")\n",
        "```\n",
        "\n",
        "\n"
      ],
      "metadata": {
        "id": "9uq9SiN5voNP"
      }
    },
    {
      "cell_type": "markdown",
      "source": [
        "15.How does Python's garbage collection system work?\n",
        "\n",
        ">### **Python’s Garbage Collection System**\n",
        "\n",
        ">> Garbage collection in Python is the process of **automatically freeing memory** by destroying unused (unreferenced) objects.\n",
        "\n",
        "\n",
        ">### **How it Works**\n",
        "\n",
        "> 1. **Reference Counting**\n",
        "\n",
        "   > * Every object in Python has a **reference count** (number of variables pointing to it).\n",
        "   > * When reference count → **0**, the object becomes unreachable and is destroyed.\n",
        "\n",
        "   Example:\n",
        "\n",
        "   ```python\n",
        "   import sys\n",
        "   x = [1, 2, 3]\n",
        "   print(sys.getrefcount(x))  # shows reference count\n",
        "   del x  # reference removed → object deleted\n",
        "   ```\n",
        "\n",
        "\n",
        "\n",
        ">2. **Cyclic Garbage Collector**\n",
        "\n",
        "   > * Reference counting alone fails with **circular references** (objects referring to each other).\n",
        "   > * Python uses a **cyclic garbage collector** (in the `gc` module) to detect and clean such cycles.\n",
        "\n",
        "   Example:\n",
        "\n",
        "   ```python\n",
        "   import gc\n",
        "   gc.collect()  # Manually run garbage collector\n",
        "   ```\n",
        "\n",
        "\n",
        "\n",
        "> 3. **Generational Garbage Collection**\n",
        "\n",
        "   > * Objects are divided into **generations (0, 1, 2)**.\n",
        "   > * New objects start in generation 0.\n",
        "   > * Surviving objects are promoted to older generations.\n",
        "   > * Younger generations are collected more often (since short-lived objects are common).\n",
        "\n",
        "\n"
      ],
      "metadata": {
        "id": "VH6oESiuvrba"
      }
    },
    {
      "cell_type": "markdown",
      "source": [
        "16.What is the purpose of the else block in exception handling?\n",
        "\n",
        ">### **Purpose of the `else` Block in Exception Handling (Python)**\n",
        "\n",
        "> * The **`else` block** is **optional** in Python’s exception handling.\n",
        "> * It runs **only if no exception occurs** in the `try` block.\n",
        "> * Useful for code that should execute **only when everything in `try` succeeds**, keeping it separate from the `try` and `except` logic.\n",
        "\n",
        "### **Example**\n",
        "\n",
        "```python\n",
        "try:\n",
        "    num = int(input(\"Enter a number: \"))\n",
        "    result = 10 / num\n",
        "except ZeroDivisionError:\n",
        "    print(\" Cannot divide by zero\")\n",
        "except ValueError:\n",
        "    print(\" Invalid input\")\n",
        "else:\n",
        "    print(\" Division successful:\", result)\n",
        "```\n",
        "\n",
        "\n",
        "> ### **Key Points**\n",
        "\n",
        ">1. Runs **only when no exception occurs** in `try`.\n",
        ">2. Helps **separate normal execution code** from exception-handling code.\n",
        ">3. Often used with `finally` for **complete exception-handling structure**.\n",
        "\n",
        "\n",
        "\n"
      ],
      "metadata": {
        "id": "_EgXyXZ8vuZS"
      }
    },
    {
      "cell_type": "markdown",
      "source": [
        "17.What are the common logging levels in Python?\n",
        "\n",
        ">### **Common Logging Levels in Python**\n",
        "\n",
        ">>DEBUG :\tDetailed information, typically of interest only during diagnosis.\n",
        "\n",
        ">>INFO :\tConfirmation that things are working as expected.\n",
        "\n",
        ">>WARNING\t:Indicates something unexpected or potentially problematic happened.\n",
        "\n",
        ">>ERROR :\tA serious problem that prevented a function from running properly.\n",
        "\n",
        ">>CRITICAL :\tA very serious error that may prevent the program from continuing.\n",
        "\n",
        "\n",
        "### **Example**\n",
        "\n",
        "```python\n",
        "import logging\n",
        "\n",
        "logging.basicConfig(level=logging.DEBUG)\n",
        "\n",
        "logging.debug(\"Debugging info\")\n",
        "logging.info(\"Program started\")\n",
        "logging.warning(\"Low disk space\")\n",
        "logging.error(\"File not found\")\n",
        "logging.critical(\"System crash\")\n",
        "```\n",
        "\n",
        "\n"
      ],
      "metadata": {
        "id": "MRCEAC2wvxmF"
      }
    },
    {
      "cell_type": "markdown",
      "source": [
        "18.What is the difference between os.fork() and multiprocessing in Python?\n",
        "\n",
        "> **Platform Support**:\n",
        "\n",
        "> * os.fork(): Unix/Linux only\n",
        "> * multiprocessing: Cross-platform (Linux, Windows, macOS)\n",
        "\n",
        "> **Definition**:\n",
        "\n",
        "> * os.fork(): Creates a **child process** by duplicating the current process\n",
        "> * multiprocessing: High-level module to create and manage **separate processes**\n",
        "\n",
        "> **Ease of Use**:\n",
        "\n",
        "> * os.fork(): Low-level; manual management needed\n",
        "> * multiprocessing: High-level; easier to use (`Process`, `Pool`, queues)\n",
        "\n",
        "> **Memory Sharing**:\n",
        "\n",
        "> * os.fork(): Child shares memory initially (copy-on-write)\n",
        "> * multiprocessing: Each process has **separate memory space**\n",
        "\n",
        "> **Process Control**:\n",
        "\n",
        "> * os.fork(): Manual handling (`os.wait()`, `os.kill()`)\n",
        "> * multiprocessing: Managed via **Process class, join(), start()**\n",
        "\n",
        "> **Use Case**:\n",
        "\n",
        "> * os.fork(): Low-level Unix process creation\n",
        "> * multiprocessing: General-purpose, CPU-bound tasks, cross-platform\n",
        "\n",
        "> **Safety**:\n",
        "\n",
        "> * os.fork(): Error-prone, risk of zombie processes\n",
        "> * multiprocessing: Safer, cleaner API for process management\n",
        "\n",
        "\n"
      ],
      "metadata": {
        "id": "uqIxILzMwpI3"
      }
    },
    {
      "cell_type": "markdown",
      "source": [
        "19.What is the importance of closing a file in Python?\n",
        "\n",
        "> Importance of Closing a File in Python\n",
        "\n",
        ">1. Releases system resources → Open files consume memory and file handles; closing frees them.\n",
        "\n",
        ">2. Ensures data is saved → Data written to a file is flushed from the buffer to disk when the file is closed.\n",
        "\n",
        ">3. Prevents data corruption → Avoids incomplete writes or file corruption.\n",
        "\n",
        ">4. Allows other programs to access the file → Some systems lock open files; closing makes them available.\n",
        "\n",
        ">5. Good programming practice → Ensures better resource management and avoids memory leaks.\n"
      ],
      "metadata": {
        "id": "SXzUjaQGwwFw"
      }
    },
    {
      "cell_type": "markdown",
      "source": [
        "20.What is the difference between file.read() and file.readline() in Python?\n",
        "\n",
        "\n",
        "> **Purpose**:\n",
        "\n",
        "> * read: Reads the **entire file** (or specified number of bytes)\n",
        "> * readline: Reads **one line at a time**\n",
        "\n",
        "> **Return Type**:\n",
        "\n",
        "> * read: Returns a **string** with the full content\n",
        "> * readline: Returns a **string** with the next line (includes `\\n`)\n",
        "\n",
        "> **Memory Usage**:\n",
        "\n",
        "> * read: Can use **more memory** for large files\n",
        "> * readline: **Memory efficient** for large files\n",
        "\n",
        "> **Usage**:\n",
        "\n",
        "> * read: When you want to process the **whole file at once**\n",
        "> * readline: When you want to process **line by line**\n",
        "\n",
        "> **Example**:\n",
        "\n",
        "> * read: `content = f.read()`\n",
        "> * readline: `line = f.readline()`\n"
      ],
      "metadata": {
        "id": "RC-nZxihw4AD"
      }
    },
    {
      "cell_type": "markdown",
      "source": [
        "21.What is the logging module in Python used for ?\n",
        "\n",
        "\n",
        "> ### **Logging Module in Python**\n",
        "\n",
        "* **Definition**:\n",
        "  The `logging` module in Python is used to **record messages** that describe events happening in a program.\n",
        "* **Purpose**:\n",
        "\n",
        "  * Helps **track program execution**\n",
        "  * Aids in **debugging**\n",
        "  * Monitors program **errors, warnings, and informational messages**\n",
        "\n",
        "\n",
        "\n",
        "> ### **Key Features**\n",
        "\n",
        "> 1. Provides **different logging levels**: DEBUG, INFO, WARNING, ERROR, CRITICAL\n",
        "> 2. Can log messages to **console, files, or both**\n",
        "> 3. Supports **custom formatting** with timestamps, level names, and messages\n",
        "> 4. Safer and more flexible than using `print()`\n",
        "\n",
        "\n",
        "\n",
        "### **Example**\n",
        "\n",
        "```python\n",
        "import logging\n",
        "\n",
        "logging.basicConfig(filename=\"app.log\", level=logging.INFO,\n",
        "                    format=\"%(asctime)s - %(levelname)s - %(message)s\")\n",
        "\n",
        "logging.info(\"Program started\")\n",
        "logging.warning(\"Low disk space\")\n",
        "logging.error(\"File not found\")\n",
        "```\n",
        "\n"
      ],
      "metadata": {
        "id": "c0Rx_O8mw_Ko"
      }
    },
    {
      "cell_type": "markdown",
      "source": [
        "22.What is the os module in Python used for in file handling?\n",
        "\n",
        "> ### **OS Module in Python (File Handling)**\n",
        "\n",
        ">**Definition**:\n",
        "\n",
        "  >>The `os` module in Python provides functions to **interact with the operating system**, especially for **file and directory management**.\n",
        "\n",
        "> **Purpose in File Handling**:\n",
        "\n",
        "  > 1. **Create, remove, and rename files or directories**\n",
        "  > 2. **Check file or directory existence**\n",
        "  > 3. **Get file/directory properties** (size, path, permissions)\n",
        "  > 4. **Navigate directories** (current working directory, change directory)\n",
        "  > 5. **List files in a directory**\n",
        "\n",
        "\n",
        "### **Common Examples**\n",
        "\n",
        "```python\n",
        "import os\n",
        "\n",
        "# Get current working directory\n",
        "print(os.getcwd())\n",
        "\n",
        "# List files in a directory\n",
        "print(os.listdir('.'))\n",
        "\n",
        "# Create a directory\n",
        "os.mkdir('new_folder')\n",
        "\n",
        "# Rename a file\n",
        "os.rename('old_file.txt', 'new_file.txt')\n",
        "\n",
        "# Remove a file\n",
        "os.remove('new_file.txt')\n",
        "```\n",
        "\n",
        "\n"
      ],
      "metadata": {
        "id": "VaHTeYE3xFUB"
      }
    },
    {
      "cell_type": "markdown",
      "source": [
        "23.What are the challenges associated with memory management in Python?\n",
        "\n",
        "\n",
        "> ### **Challenges Associated with Memory Management in Python**\n",
        "\n",
        "> 1. **Circular References**\n",
        "\n",
        "   > * Objects referencing each other can create **memory cycles** that reference counting alone cannot free.\n",
        "   > * Requires **cyclic garbage collector** to detect and clean.\n",
        "\n",
        "> 2. **Memory Leaks**\n",
        "\n",
        "   > * Holding unnecessary references to objects prevents garbage collection, leading to **memory leaks**.\n",
        "\n",
        "> 3. **High Memory Consumption**\n",
        "\n",
        "   > * Python objects have **additional memory overhead** (for metadata), which can be significant in **large-scale applications**.\n",
        "\n",
        "> 4. **Unpredictable Garbage Collection Timing**\n",
        "\n",
        "   > * The **garbage collector** may not run immediately, making memory usage sometimes **unpredictable**.\n",
        "\n",
        "> 5. **Inefficient for Large Data**\n",
        "\n",
        "   > * Python’s dynamic typing and memory management may **use more memory** than lower-level languages like C/C++ for large datasets.\n",
        "\n",
        "> 6. **Manual Cleanup May Be Needed**\n",
        "\n",
        "   > * For objects holding **external resources** (like files, database connections), relying solely on garbage collection is risky; **explicit cleanup** is required.\n",
        "\n"
      ],
      "metadata": {
        "id": "KNQYbrM8xIOB"
      }
    },
    {
      "cell_type": "markdown",
      "source": [
        "24.How do you raise an exception manually in Python?\n",
        "\n",
        "### **Raising an Exception Manually in Python**\n",
        "\n",
        "* You can **raise an exception manually** using the **`raise` keyword**.\n",
        "* Useful when you want to **enforce certain conditions** or signal an error in your program.\n",
        "\n",
        "\n",
        "\n",
        "### **Syntax**\n",
        "\n",
        "```python\n",
        "raise ExceptionType(\"Error message\")\n",
        "```\n",
        "\n",
        "* **ExceptionType** → Type of exception (e.g., `ValueError`, `TypeError`, `RuntimeError`)\n",
        "* **\"Error message\"** → Optional message describing the error\n",
        "\n",
        "\n",
        "\n",
        "### **Example**\n",
        "\n",
        "```python\n",
        "age = int(input(\"Enter your age: \"))\n",
        "if age < 18:\n",
        "    raise ValueError(\"❌ Age must be 18 or older\")\n",
        "else:\n",
        "    print(\"✅ Access granted\")\n",
        "```\n",
        "\n"
      ],
      "metadata": {
        "id": "mQFurfvVxMs2"
      }
    },
    {
      "cell_type": "markdown",
      "source": [
        "25.Why is it important to use multithreading in certain applications?\n",
        "\n",
        "\n",
        "### **Importance of Using Multithreading in Certain Applications**\n",
        "\n",
        "1. **Improves Performance for I/O-bound Tasks**\n",
        "\n",
        "   * Multithreading allows a program to **perform multiple I/O operations simultaneously**, e.g., reading files, network requests, or database queries.\n",
        "\n",
        "2. **Better Resource Utilization**\n",
        "\n",
        "   * While one thread is waiting (e.g., for user input or network response), other threads can continue running, improving **CPU utilization**.\n",
        "\n",
        "3. **Faster Response Time**\n",
        "\n",
        "   * Multithreading enables **concurrent execution**, making applications like **GUI programs or web servers** more responsive.\n",
        "\n",
        "4. **Simplifies Program Design**\n",
        "\n",
        "   * Complex applications (like servers handling multiple clients) can be structured as **multiple threads** instead of managing separate processes.\n",
        "\n",
        "5. **Reduced Overhead Compared to Multiprocessing**\n",
        "\n",
        "   * Threads are **lighter than processes**, sharing the same memory space, which reduces the cost of creating and managing them.\n",
        "\n",
        "\n",
        "### **Examples of Applications That Benefit from Multithreading**\n",
        "\n",
        "* Web servers handling multiple client requests\n",
        "* GUI applications (to avoid freezing during long tasks)\n",
        "* File download/upload managers\n",
        "* Real-time data processing (e.g., stock market apps, live dashboards)\n",
        "\n"
      ],
      "metadata": {
        "id": "jKRzPMaTxP21"
      }
    },
    {
      "cell_type": "markdown",
      "source": [
        "**Practical Question**"
      ],
      "metadata": {
        "id": "QHlzahsVxVOc"
      }
    },
    {
      "cell_type": "code",
      "execution_count": 4,
      "metadata": {
        "id": "Eaqs_5n5ufAW",
        "colab": {
          "base_uri": "https://localhost:8080/"
        },
        "outputId": "a50c2fbe-f00f-41c5-e44d-f1c8fdf3c2c2"
      },
      "outputs": [
        {
          "output_type": "execute_result",
          "data": {
            "text/plain": [
              "19"
            ]
          },
          "metadata": {},
          "execution_count": 4
        }
      ],
      "source": [
        "#1 How can you open a file for writing in Python and write a string to it ?\n",
        "\n",
        "f=open(\"demo.txt\",\"w\")\n",
        "f.write(\"this is a demo file\")\n"
      ]
    },
    {
      "cell_type": "code",
      "source": [
        "#2 Write a Python program to read the contents of a file and print each line ?\n",
        "f.close()\n",
        "f=open(\"demo.txt\",\"r\")\n",
        "print(f.read())"
      ],
      "metadata": {
        "id": "zi4VkS_nxl3I",
        "colab": {
          "base_uri": "https://localhost:8080/"
        },
        "outputId": "fbff5113-58e2-4d23-ec15-f6eb5ca31661"
      },
      "execution_count": 5,
      "outputs": [
        {
          "output_type": "stream",
          "name": "stdout",
          "text": [
            "this is a demo file\n"
          ]
        }
      ]
    },
    {
      "cell_type": "code",
      "source": [
        "#3 How would you handle a case where the file doesn't exist while trying to open it for reading\n",
        "\n",
        "f=open(\"file.txt\",\"r\")\n",
        "print(f.read())"
      ],
      "metadata": {
        "id": "4diVfsC6xpyh",
        "colab": {
          "base_uri": "https://localhost:8080/",
          "height": 193
        },
        "outputId": "a9bfb7b4-81d7-4bd8-baeb-27237f7d53e0"
      },
      "execution_count": 7,
      "outputs": [
        {
          "output_type": "error",
          "ename": "FileNotFoundError",
          "evalue": "[Errno 2] No such file or directory: 'file.txt'",
          "traceback": [
            "\u001b[0;31m---------------------------------------------------------------------------\u001b[0m",
            "\u001b[0;31mFileNotFoundError\u001b[0m                         Traceback (most recent call last)",
            "\u001b[0;32m/tmp/ipython-input-3997895485.py\u001b[0m in \u001b[0;36m<cell line: 0>\u001b[0;34m()\u001b[0m\n\u001b[1;32m      1\u001b[0m \u001b[0;31m#3 How would you handle a case where the file doesn't exist while trying to open it for reading\u001b[0m\u001b[0;34m\u001b[0m\u001b[0;34m\u001b[0m\u001b[0m\n\u001b[1;32m      2\u001b[0m \u001b[0;34m\u001b[0m\u001b[0m\n\u001b[0;32m----> 3\u001b[0;31m \u001b[0mf\u001b[0m\u001b[0;34m=\u001b[0m\u001b[0mopen\u001b[0m\u001b[0;34m(\u001b[0m\u001b[0;34m\"file.txt\"\u001b[0m\u001b[0;34m,\u001b[0m\u001b[0;34m\"r\"\u001b[0m\u001b[0;34m)\u001b[0m\u001b[0;34m\u001b[0m\u001b[0;34m\u001b[0m\u001b[0m\n\u001b[0m\u001b[1;32m      4\u001b[0m \u001b[0mprint\u001b[0m\u001b[0;34m(\u001b[0m\u001b[0mf\u001b[0m\u001b[0;34m.\u001b[0m\u001b[0mread\u001b[0m\u001b[0;34m(\u001b[0m\u001b[0;34m)\u001b[0m\u001b[0;34m)\u001b[0m\u001b[0;34m\u001b[0m\u001b[0;34m\u001b[0m\u001b[0m\n",
            "\u001b[0;31mFileNotFoundError\u001b[0m: [Errno 2] No such file or directory: 'file.txt'"
          ]
        }
      ]
    },
    {
      "cell_type": "code",
      "source": [
        "#4 Write a Python script that reads from one file and writes its content to another file?\n",
        "\n",
        "\n",
        "# Open the source file in read mode\n",
        "with open(\"demo.txt\", \"r\") as source_file:\n",
        "    content = source_file.read()\n",
        "\n",
        "# Open the destination file in write mode\n",
        "with open(\"destination.txt\", \"w\") as destination_file:\n",
        "    destination_file.write(content)\n",
        "\n",
        "print(\"File copied successfully!\")\n"
      ],
      "metadata": {
        "id": "ClE-eVUlxtUs",
        "colab": {
          "base_uri": "https://localhost:8080/"
        },
        "outputId": "4f8f987e-abbc-4561-e2b4-39ec4719f37e"
      },
      "execution_count": 9,
      "outputs": [
        {
          "output_type": "stream",
          "name": "stdout",
          "text": [
            "File copied successfully!\n"
          ]
        }
      ]
    },
    {
      "cell_type": "code",
      "source": [
        "#5 How would you catch and handle division by zero error in Python.\n",
        "\n",
        "try:\n",
        "    numerator = int(input(\"Enter numerator: \"))\n",
        "    denominator = int(input(\"Enter denominator: \"))\n",
        "\n",
        "    result = numerator / denominator\n",
        "    print(\"Result:\", result)\n",
        "\n",
        "except ZeroDivisionError:\n",
        "    print(\"Error: Division by zero is not allowed.\")\n"
      ],
      "metadata": {
        "id": "Lp2yi7Y1xv81",
        "colab": {
          "base_uri": "https://localhost:8080/"
        },
        "outputId": "4408ab4a-7b66-4fea-f0a0-edf79e36ea66"
      },
      "execution_count": 10,
      "outputs": [
        {
          "output_type": "stream",
          "name": "stdout",
          "text": [
            "Enter numerator: 3\n",
            "Enter denominator: 0\n",
            "Error: Division by zero is not allowed.\n"
          ]
        }
      ]
    },
    {
      "cell_type": "code",
      "source": [
        "#6 Write a Python program that logs an error message to a log file when a division by zero exception occurs.\n",
        "\n",
        "import logging\n",
        "\n",
        "# Configure logging\n",
        "logging.basicConfig(\n",
        "    filename=\"error.log\",        # Log file name\n",
        "    level=logging.ERROR,         # Log only errors or higher severity\n",
        "    format=\"%(asctime)s - %(levelname)s - %(message)s\"\n",
        ")\n",
        "\n",
        "try:\n",
        "    numerator = int(input(\"Enter numerator: \"))\n",
        "    denominator = int(input(\"Enter denominator: \"))\n",
        "\n",
        "    result = numerator / denominator\n",
        "    print(\"Result:\", result)\n",
        "\n",
        "except ZeroDivisionError as e:\n",
        "    print(\"Error: Division by zero is not allowed.\")\n",
        "    logging.error(\"Division by zero attempted: %s\", e)\n"
      ],
      "metadata": {
        "id": "5csTV-GJx7rL",
        "colab": {
          "base_uri": "https://localhost:8080/"
        },
        "outputId": "5efc3e39-a5c5-4408-ac78-5018b8454a34"
      },
      "execution_count": 11,
      "outputs": [
        {
          "name": "stdout",
          "output_type": "stream",
          "text": [
            "Enter numerator: 43\n",
            "Enter denominator: 0\n"
          ]
        },
        {
          "output_type": "stream",
          "name": "stderr",
          "text": [
            "ERROR:root:Division by zero attempted: division by zero\n"
          ]
        },
        {
          "output_type": "stream",
          "name": "stdout",
          "text": [
            "Error: Division by zero is not allowed.\n"
          ]
        }
      ]
    },
    {
      "cell_type": "code",
      "source": [
        "#7 How do you log information at different levels (INFO, ERROR, WARNING) in Python using the logging module ?\n",
        "\n",
        "import logging\n",
        "\n",
        "# Configure logging\n",
        "logging.basicConfig(\n",
        "    filename=\"app.log\",          # Log file name\n",
        "    level=logging.DEBUG,         # Capture all levels (DEBUG and above)\n",
        "    format=\"%(asctime)s - %(levelname)s - %(message)s\"\n",
        ")\n",
        "\n",
        "# Logging at different levels\n",
        "logging.info(\"This is an INFO message: Program started successfully.\")\n",
        "logging.warning(\"This is a WARNING message: Low disk space.\")\n",
        "logging.error(\"This is an ERROR message: Division by zero occurred.\")\n"
      ],
      "metadata": {
        "id": "7ZzY_GlEx-z5",
        "colab": {
          "base_uri": "https://localhost:8080/"
        },
        "outputId": "7a052ec3-3181-4e79-dd0c-63aa1551e22a"
      },
      "execution_count": 12,
      "outputs": [
        {
          "output_type": "stream",
          "name": "stderr",
          "text": [
            "WARNING:root:This is a WARNING message: Low disk space.\n",
            "ERROR:root:This is an ERROR message: Division by zero occurred.\n"
          ]
        }
      ]
    },
    {
      "cell_type": "code",
      "source": [
        "#8 Write a program to handle a file opening error using exception handling ?\n",
        "\n",
        "try:\n",
        "    # Attempt to open a file in read mode\n",
        "    with open(\"sample.txt\", \"r\") as file:\n",
        "        content = file.read()\n",
        "        print(\"File content:\\n\", content)\n",
        "\n",
        "except FileNotFoundError:\n",
        "    print(\"Error: The file was not found.\")\n",
        "except PermissionError:\n",
        "    print(\"Error: You don't have permission to access this file.\")\n",
        "except Exception as e:\n",
        "    print(\"An unexpected error occurred:\", e)\n"
      ],
      "metadata": {
        "id": "5mEBNpDpyCmj",
        "colab": {
          "base_uri": "https://localhost:8080/"
        },
        "outputId": "00dd5ac5-8e5f-4c69-e6ec-7a637f3e841c"
      },
      "execution_count": 15,
      "outputs": [
        {
          "output_type": "stream",
          "name": "stdout",
          "text": [
            "File content:\n",
            " \n",
            "This line is newly appended.\n"
          ]
        }
      ]
    },
    {
      "cell_type": "code",
      "source": [
        "#9  How can you read a file line by line and store its content in a list in Python ?\n",
        "\n",
        "lines = []\n",
        "with open(\"sample.txt\", \"r\") as file:\n",
        "    for line in file:\n",
        "        lines.append(line.strip())   # strip() removes newline characters\n",
        "\n",
        "print(lines)\n",
        "\n"
      ],
      "metadata": {
        "id": "IybDgE3myF85",
        "colab": {
          "base_uri": "https://localhost:8080/"
        },
        "outputId": "f6f80ff8-44a1-45f4-dd40-0e453be89961"
      },
      "execution_count": 14,
      "outputs": [
        {
          "output_type": "stream",
          "name": "stdout",
          "text": [
            "['', 'This line is newly appended.']\n"
          ]
        }
      ]
    },
    {
      "cell_type": "code",
      "source": [
        "#10 How can you append data to an existing file in Python ?\n",
        "\n",
        "\n",
        "with open(\"sample.txt\", \"a\") as file:\n",
        "    file.write(\"\\nThis line is newly appended.\")\n",
        "\n",
        "print(\"Data appended successfully!\")\n"
      ],
      "metadata": {
        "id": "YPirCoccyJvq",
        "colab": {
          "base_uri": "https://localhost:8080/"
        },
        "outputId": "bacc67c9-d443-4841-fec2-7f81c50a7765"
      },
      "execution_count": 13,
      "outputs": [
        {
          "output_type": "stream",
          "name": "stdout",
          "text": [
            "Data appended successfully!\n"
          ]
        }
      ]
    },
    {
      "cell_type": "code",
      "source": [
        "#11 Write a Python program that uses a try-except block to handle an error when attempting to access a dictionary key that doesn't exist\n",
        "\n",
        "# Dictionary of student marks\n",
        "marks = {\"Alice\": 85, \"Bob\": 90, \"Charlie\": 78}\n",
        "\n",
        "try:\n",
        "    # Trying to access a key that may not exist\n",
        "    student = input(\"Enter student name: \")\n",
        "    print(f\"{student}'s marks: {marks[student]}\")\n",
        "\n",
        "except KeyError:\n",
        "    print(\"Error: That student does not exist in the dictionary.\")\n"
      ],
      "metadata": {
        "id": "G_wwDmOVyNFv",
        "colab": {
          "base_uri": "https://localhost:8080/"
        },
        "outputId": "9036c4c3-cffe-4d6d-9667-75a5df1203db"
      },
      "execution_count": 16,
      "outputs": [
        {
          "output_type": "stream",
          "name": "stdout",
          "text": [
            "Enter student name: dl\n",
            "Error: That student does not exist in the dictionary.\n"
          ]
        }
      ]
    },
    {
      "cell_type": "code",
      "source": [
        "#12 Write a program that demonstrates using multiple except blocks to handle different types of exceptions\n",
        "\n",
        "try:\n",
        "    # User inputs\n",
        "    num1 = int(input(\"Enter numerator: \"))\n",
        "    num2 = int(input(\"Enter denominator: \"))\n",
        "\n",
        "    # Division operation\n",
        "    result = num1 / num2\n",
        "    print(\"Result:\", result)\n",
        "\n",
        "    # Accessing a dictionary\n",
        "    data = {\"a\": 10, \"b\": 20}\n",
        "    key = input(\"Enter a key to access dictionary (a/b): \")\n",
        "    print(\"Value:\", data[key])\n",
        "\n",
        "# Handle division by zero\n",
        "except ZeroDivisionError:\n",
        "    print(\"Error: Division by zero is not allowed.\")\n",
        "\n",
        "# Handle wrong data type (like entering text instead of a number)\n",
        "except ValueError:\n",
        "    print(\"Error: Invalid input! Please enter numbers only.\")\n",
        "\n",
        "# Handle dictionary key error\n",
        "except KeyError:\n",
        "    print(\"Error: The specified key was not found in the dictionary.\")\n",
        "\n",
        "# Handle any other unexpected error\n",
        "except Exception as e:\n",
        "    print(\"An unexpected error occurred:\", e)\n"
      ],
      "metadata": {
        "id": "RTr76O-UyRwd",
        "colab": {
          "base_uri": "https://localhost:8080/"
        },
        "outputId": "5e744c87-3243-4705-ae35-695a66098c7d"
      },
      "execution_count": 17,
      "outputs": [
        {
          "output_type": "stream",
          "name": "stdout",
          "text": [
            "Enter numerator: 45\n",
            "Enter denominator: e\n",
            "Error: Invalid input! Please enter numbers only.\n"
          ]
        }
      ]
    },
    {
      "cell_type": "code",
      "source": [
        "#13 How would you check if a file exists before attempting to read it in Python ?\n",
        "\n",
        "import os\n",
        "\n",
        "filename = \"sample.txt\"\n",
        "\n",
        "if os.path.exists(filename):\n",
        "    with open(filename, \"r\") as file:\n",
        "        content = file.read()\n",
        "        print(\"File content:\\n\", content)\n",
        "else:\n",
        "    print(\"Error: File does not exist.\")\n"
      ],
      "metadata": {
        "id": "OnhDDdRLzVuy",
        "colab": {
          "base_uri": "https://localhost:8080/"
        },
        "outputId": "529d093c-4a94-4add-b6e0-d4221bafa16a"
      },
      "execution_count": 18,
      "outputs": [
        {
          "output_type": "stream",
          "name": "stdout",
          "text": [
            "File content:\n",
            " \n",
            "This line is newly appended.\n"
          ]
        }
      ]
    },
    {
      "cell_type": "code",
      "source": [
        "#14 Write a program that uses the logging module to log both informational and error messages\n",
        "\n",
        "import logging\n",
        "\n",
        "# Configure logging\n",
        "logging.basicConfig(\n",
        "    filename=\"app.log\",          # Log file name\n",
        "    level=logging.DEBUG,         # Capture all levels (DEBUG and above)\n",
        "    format=\"%(asctime)s - %(levelname)s - %(message)s\"\n",
        ")\n",
        "\n",
        "# Log an informational message\n",
        "logging.info(\"Program started successfully.\")\n",
        "\n",
        "try:\n",
        "    num1 = 10\n",
        "    num2 = 0  # This will cause an error\n",
        "    result = num1 / num2\n",
        "    logging.info(f\"Division successful. Result = {result}\")\n",
        "\n",
        "except ZeroDivisionError as e:\n",
        "    logging.error(\"Division by zero error occurred: %s\", e)\n",
        "\n",
        "# Another informational log\n",
        "logging.info(\"Program execution finished.\")\n"
      ],
      "metadata": {
        "id": "t5ohVXATzZ3F",
        "colab": {
          "base_uri": "https://localhost:8080/"
        },
        "outputId": "c98f9fa1-03a8-4441-df68-cb36f2bd1723"
      },
      "execution_count": 20,
      "outputs": [
        {
          "output_type": "stream",
          "name": "stderr",
          "text": [
            "ERROR:root:Division by zero error occurred: division by zero\n"
          ]
        }
      ]
    },
    {
      "cell_type": "code",
      "source": [
        "#15 Write a Python program that prints the content of a file and handles the case when the file is empty ?\n",
        "\n",
        "def read_file(filename):\n",
        "    try:\n",
        "        with open(filename, \"r\") as file:\n",
        "            content = file.read()\n",
        "\n",
        "            if content.strip() == \"\":   # Check if file is empty (ignores spaces/newlines)\n",
        "                print(\"The file is empty.\")\n",
        "            else:\n",
        "                print(\"File content:\\n\")\n",
        "                print(content)\n",
        "\n",
        "    except FileNotFoundError:\n",
        "        print(\"Error: File not found.\")\n",
        "    except Exception as e:\n",
        "        print(\"An unexpected error occurred:\", e)\n",
        "\n",
        "\n",
        "# Example usage\n",
        "read_file(\"sample.txt\")\n"
      ],
      "metadata": {
        "id": "RgDOOayYzc-M",
        "colab": {
          "base_uri": "https://localhost:8080/"
        },
        "outputId": "1365d53d-730d-4178-aeb0-3e77b38ac2b5"
      },
      "execution_count": 21,
      "outputs": [
        {
          "output_type": "stream",
          "name": "stdout",
          "text": [
            "File content:\n",
            "\n",
            "\n",
            "This line is newly appended.\n"
          ]
        }
      ]
    },
    {
      "cell_type": "code",
      "source": [
        "#16 Demonstrate how to use memory profiling to check the memory usage of a small program ?\n",
        "\n",
        "# Install memory_profiler in Colab\n",
        "!pip install -q memory-profiler\n",
        "\n",
        "# Import required modules\n",
        "from memory_profiler import profile\n",
        "import tracemalloc\n",
        "\n",
        "# Function to create a large list (to test memory usage)\n",
        "@profile\n",
        "def create_list():\n",
        "    data = [i for i in range(1_000_000)]  # 1 million integers\n",
        "    return data\n",
        "\n",
        "@profile\n",
        "def main():\n",
        "    numbers = create_list()\n",
        "    print(\"List created with\", len(numbers), \"elements.\")\n",
        "\n",
        "# --- Run with memory_profiler ---\n",
        "print(\"=== Memory Profiler Output ===\")\n",
        "main()\n",
        "\n",
        "# --- Run with tracemalloc ---\n",
        "print(\"\\n=== Tracemalloc Output ===\")\n",
        "tracemalloc.start()\n",
        "\n",
        "# Allocate memory\n",
        "numbers = [i for i in range(1_000_000)]\n",
        "print(\"List created with\", len(numbers), \"elements.\")\n",
        "\n",
        "# Show memory usage snapshot\n",
        "current, peak = tracemalloc.get_traced_memory()\n",
        "print(f\"Current memory usage: {current / 1024 / 1024:.2f} MB\")\n",
        "print(f\"Peak memory usage: {peak / 1024 / 1024:.2f} MB\")\n",
        "\n",
        "tracemalloc.stop()\n",
        "\n"
      ],
      "metadata": {
        "id": "EVIQ-pntzm5G",
        "colab": {
          "base_uri": "https://localhost:8080/"
        },
        "outputId": "a08ca44b-fb70-4778-d76e-2ee513f92886"
      },
      "execution_count": 24,
      "outputs": [
        {
          "output_type": "stream",
          "name": "stdout",
          "text": [
            "=== Memory Profiler Output ===\n",
            "ERROR: Could not find file /tmp/ipython-input-2977402271.py\n",
            "ERROR: Could not find file /tmp/ipython-input-2977402271.py\n",
            "List created with 1000000 elements.\n",
            "\n",
            "=== Tracemalloc Output ===\n",
            "List created with 1000000 elements.\n",
            "Current memory usage: 38.57 MB\n",
            "Peak memory usage: 38.59 MB\n"
          ]
        }
      ]
    },
    {
      "cell_type": "code",
      "source": [
        "#17  Write a Python program to create and write a list of numbers to a file, one number per line .\n",
        "\n",
        "# Create a list of numbers\n",
        "numbers = [1, 2, 3, 4, 5, 10, 20, 30]\n",
        "\n",
        "# Open a file in write mode\n",
        "with open(\"numbers.txt\", \"w\") as file:\n",
        "    for num in numbers:\n",
        "        file.write(str(num) + \"\\n\")   # Write each number on a new line\n",
        "\n",
        "print(\"Numbers written to numbers.txt successfully!\")\n"
      ],
      "metadata": {
        "id": "Q-fDXZG-zfPk",
        "colab": {
          "base_uri": "https://localhost:8080/"
        },
        "outputId": "ce4b5546-e4f4-4e32-b82b-1b936b7c3e53"
      },
      "execution_count": 25,
      "outputs": [
        {
          "output_type": "stream",
          "name": "stdout",
          "text": [
            "Numbers written to numbers.txt successfully!\n"
          ]
        }
      ]
    },
    {
      "cell_type": "code",
      "source": [
        "#18 How would you implement a basic logging setup that logs to a file with rotation after 1MB?\n",
        "\n",
        "import logging\n",
        "from logging.handlers import RotatingFileHandler\n",
        "\n",
        "# Create a rotating file handler (1 MB per file, keep 3 backups)\n",
        "handler = RotatingFileHandler(\n",
        "    \"app.log\",\n",
        "    maxBytes=1*1024,  # smaller size (1 KB) for quick demo\n",
        "    backupCount=3\n",
        ")\n",
        "\n",
        "logging.basicConfig(\n",
        "    level=logging.INFO,\n",
        "    format=\"%(asctime)s - %(levelname)s - %(message)s\",\n",
        "    handlers=[handler]\n",
        ")\n",
        "\n",
        "# Generate logs\n",
        "for i in range(100):\n",
        "    logging.info(f\"Log entry number {i}\")\n",
        "\n",
        "print(\"Log file created successfully\")\n"
      ],
      "metadata": {
        "id": "2cGakiOKztjZ",
        "colab": {
          "base_uri": "https://localhost:8080/"
        },
        "outputId": "2c06ab47-8813-4485-e73c-d90070981d9f"
      },
      "execution_count": 30,
      "outputs": [
        {
          "output_type": "stream",
          "name": "stdout",
          "text": [
            "Log file created successfully\n"
          ]
        }
      ]
    },
    {
      "cell_type": "code",
      "source": [
        "#19 Write a program that handles both IndexError and KeyError using a try-except block?\n",
        "\n",
        "# Sample list and dictionary\n",
        "my_list = [10, 20, 30]\n",
        "my_dict = {\"a\": 1, \"b\": 2}\n",
        "\n",
        "try:\n",
        "    # Attempt to access invalid index\n",
        "    print(\"List item:\", my_list[5])   # This will raise IndexError\n",
        "\n",
        "    # Attempt to access invalid dictionary key\n",
        "    print(\"Dictionary value:\", my_dict[\"z\"])   # This will raise KeyError\n",
        "\n",
        "except IndexError:\n",
        "    print(\"Error: List index out of range.\")\n",
        "\n",
        "except KeyError:\n",
        "    print(\"Error: Dictionary key not found.\")\n",
        "\n",
        "except Exception as e:\n",
        "    print(\"An unexpected error occurred:\", e)\n"
      ],
      "metadata": {
        "id": "Y1oeqLFqzz5g",
        "colab": {
          "base_uri": "https://localhost:8080/"
        },
        "outputId": "57fdecb2-d7bc-4b3d-9ad5-178e3089f2b8"
      },
      "execution_count": 31,
      "outputs": [
        {
          "output_type": "stream",
          "name": "stdout",
          "text": [
            "Error: List index out of range.\n"
          ]
        }
      ]
    },
    {
      "cell_type": "code",
      "source": [
        "#20 How would you open a file and read its contents using a context manager in Python\n",
        "\n",
        "# Open and read file using a context manager\n",
        "with open(\"sample.txt\", \"r\") as file:\n",
        "    content = file.read()\n",
        "    print(content)\n"
      ],
      "metadata": {
        "id": "rQSDvzA6z31a",
        "colab": {
          "base_uri": "https://localhost:8080/"
        },
        "outputId": "4bf1b556-68e2-4435-d830-414c0d53af9d"
      },
      "execution_count": 32,
      "outputs": [
        {
          "output_type": "stream",
          "name": "stdout",
          "text": [
            "\n",
            "This line is newly appended.\n"
          ]
        }
      ]
    },
    {
      "cell_type": "code",
      "source": [
        "#21  Write a Python program that reads a file and prints the number of occurrences of a specific word?\n",
        "\n",
        "def count_word_occurrences(filename, word):\n",
        "    try:\n",
        "        with open(filename, \"r\") as file:\n",
        "            content = file.read().lower()   # Read all content & convert to lowercase\n",
        "\n",
        "        # Count occurrences of the word\n",
        "        count = content.split().count(word.lower())\n",
        "        print(f\"The word '{word}' occurs {count} times in {filename}.\")\n",
        "\n",
        "    except FileNotFoundError:\n",
        "        print(\"Error: File not found.\")\n",
        "    except Exception as e:\n",
        "        print(\"An unexpected error occurred:\", e)\n",
        "\n",
        "\n",
        "# Example usage\n",
        "filename = \"sample.txt\"\n",
        "word_to_search = \"python\"\n",
        "count_word_occurrences(filename, word_to_search)\n"
      ],
      "metadata": {
        "id": "b1T3gSS9z6xZ",
        "colab": {
          "base_uri": "https://localhost:8080/"
        },
        "outputId": "47954fc1-a8de-4f79-efb3-57907184fd59"
      },
      "execution_count": 33,
      "outputs": [
        {
          "output_type": "stream",
          "name": "stdout",
          "text": [
            "The word 'python' occurs 0 times in sample.txt.\n"
          ]
        }
      ]
    },
    {
      "cell_type": "code",
      "source": [
        "#22 How can you check if a file is empty before attempting to read its contents ?\n",
        "\n",
        "import os\n",
        "\n",
        "filename = \"sample.txt\"\n",
        "\n",
        "if os.path.exists(filename) and os.path.getsize(filename) > 0:\n",
        "    with open(filename, \"r\") as file:\n",
        "        content = file.read()\n",
        "        print(\"File content:\\n\", content)\n",
        "else:\n",
        "    print(\"The file is empty or does not exist.\")\n"
      ],
      "metadata": {
        "id": "K1N6wfmW0Afr",
        "colab": {
          "base_uri": "https://localhost:8080/"
        },
        "outputId": "ae77b28c-7200-470c-b8c1-dd92933e6c12"
      },
      "execution_count": 34,
      "outputs": [
        {
          "output_type": "stream",
          "name": "stdout",
          "text": [
            "File content:\n",
            " \n",
            "This line is newly appended.\n"
          ]
        }
      ]
    },
    {
      "cell_type": "code",
      "source": [
        "#23  Write a Python program that writes to a log file when an error occurs during file handling\n",
        "\n",
        "import logging\n",
        "\n",
        "# Configure logging\n",
        "logging.basicConfig(\n",
        "    filename=\"file_errors.log\",       # Log file name\n",
        "    level=logging.ERROR,              # Log only errors\n",
        "    format=\"%(asctime)s - %(levelname)s - %(message)s\"\n",
        ")\n",
        "\n",
        "def read_file(filename):\n",
        "    try:\n",
        "        with open(filename, \"r\") as file:\n",
        "            content = file.read()\n",
        "            print(\"File content:\\n\", content)\n",
        "\n",
        "    except FileNotFoundError as e:\n",
        "        print(\"Error: File not found.\")\n",
        "        logging.error(\"FileNotFoundError: %s\", e)\n",
        "\n",
        "    except PermissionError as e:\n",
        "        print(\"Error: Permission denied.\")\n",
        "        logging.error(\"PermissionError: %s\", e)\n",
        "\n",
        "    except Exception as e:\n",
        "        print(\"An unexpected error occurred.\")\n",
        "        logging.error(\"Unexpected error: %s\", e)\n",
        "\n",
        "# Example usage\n",
        "read_file(\"sample.txt\")\n"
      ],
      "metadata": {
        "id": "2h3keZ2F0I-S",
        "colab": {
          "base_uri": "https://localhost:8080/"
        },
        "outputId": "f13a7df1-c35a-42b7-a27d-c9e7cdbe522e"
      },
      "execution_count": 35,
      "outputs": [
        {
          "output_type": "stream",
          "name": "stdout",
          "text": [
            "File content:\n",
            " \n",
            "This line is newly appended.\n"
          ]
        }
      ]
    }
  ]
}